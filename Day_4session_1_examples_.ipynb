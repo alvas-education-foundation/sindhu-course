{
  "nbformat": 4,
  "nbformat_minor": 0,
  "metadata": {
    "colab": {
      "name": "Day 4session 1 examples .ipynb",
      "provenance": [],
      "authorship_tag": "ABX9TyOqt6vwllVLeqbqLmTlABuJ",
      "include_colab_link": true
    },
    "kernelspec": {
      "name": "python3",
      "display_name": "Python 3"
    }
  },
  "cells": [
    {
      "cell_type": "markdown",
      "metadata": {
        "id": "view-in-github",
        "colab_type": "text"
      },
      "source": [
        "<a href=\"https://colab.research.google.com/github/alvas-education-foundation/sindhu-course/blob/master/Day_4session_1_examples_.ipynb\" target=\"_parent\"><img src=\"https://colab.research.google.com/assets/colab-badge.svg\" alt=\"Open In Colab\"/></a>"
      ]
    },
    {
      "cell_type": "code",
      "metadata": {
        "id": "3C24_ydzXCsw",
        "colab_type": "code",
        "colab": {
          "base_uri": "https://localhost:8080/",
          "height": 35
        },
        "outputId": "7d279906-1c9e-491b-d725-2e13f0d748b0"
      },
      "source": [
        " \n",
        "result_list = ['True', 'False', 'File not found']\n",
        "result_string = ''\n",
        "for result in result_list:\n",
        "  result_string += result\n",
        "result_string"
      ],
      "execution_count": 1,
      "outputs": [
        {
          "output_type": "execute_result",
          "data": {
            "application/vnd.google.colaboratory.intrinsic+json": {
              "type": "string"
            },
            "text/plain": [
              "'TrueFalseFile not found'"
            ]
          },
          "metadata": {
            "tags": []
          },
          "execution_count": 1
        }
      ]
    },
    {
      "cell_type": "code",
      "metadata": {
        "id": "fgec5yK7Xeuk",
        "colab_type": "code",
        "colab": {
          "base_uri": "https://localhost:8080/",
          "height": 35
        },
        "outputId": "115a8e80-d5d0-4d22-b0d6-c99fdc02d5d0"
      },
      "source": [
        " \n",
        "result_list = ['True', 'False', 'File not found']\n",
        "result_string = ''.join(result_list)\n",
        "result_string"
      ],
      "execution_count": 2,
      "outputs": [
        {
          "output_type": "execute_result",
          "data": {
            "application/vnd.google.colaboratory.intrinsic+json": {
              "type": "string"
            },
            "text/plain": [
              "'TrueFalseFile not found'"
            ]
          },
          "metadata": {
            "tags": []
          },
          "execution_count": 2
        }
      ]
    },
    {
      "cell_type": "code",
      "metadata": {
        "id": "EdHutUcgXjMM",
        "colab_type": "code",
        "colab": {
          "base_uri": "https://localhost:8080/",
          "height": 52
        },
        "outputId": "45940edb-600e-46d4-823a-a73ccc887940"
      },
      "source": [
        " \n",
        "book_info = ' The Three Musketeers: Alexandre Dumas'\n",
        "formatted_book_info = book_info.strip()\n",
        "formatted_book_info = formatted_book_info.upper()\n",
        "formatted_book_info = formatted_book_info.replace(':', ' by')\n",
        "formatted_book_info"
      ],
      "execution_count": 3,
      "outputs": [
        {
          "output_type": "execute_result",
          "data": {
            "application/vnd.google.colaboratory.intrinsic+json": {
              "type": "string"
            },
            "text/plain": [
              "'THE THREE MUSKETEERS by ALEXANDRE DUMAS'"
            ]
          },
          "metadata": {
            "tags": []
          },
          "execution_count": 3
        }
      ]
    },
    {
      "cell_type": "code",
      "metadata": {
        "id": "vsVd3DuQXwb1",
        "colab_type": "code",
        "colab": {
          "base_uri": "https://localhost:8080/",
          "height": 52
        },
        "outputId": "37a95880-ad66-49a4-e0e2-05358091f9d4"
      },
      "source": [
        " \n",
        "book_info = ' The Three Musketeers: Alexandre Dumas'\n",
        "formatted_book_info = book_info.strip().upper().replace(':', ' by')\n",
        "formatted_book_info"
      ],
      "execution_count": 4,
      "outputs": [
        {
          "output_type": "execute_result",
          "data": {
            "application/vnd.google.colaboratory.intrinsic+json": {
              "type": "string"
            },
            "text/plain": [
              "'THE THREE MUSKETEERS by ALEXANDRE DUMAS'"
            ]
          },
          "metadata": {
            "tags": []
          },
          "execution_count": 4
        }
      ]
    },
    {
      "cell_type": "code",
      "metadata": {
        "id": "xooKTfTqX6K1",
        "colab_type": "code",
        "colab": {
          "base_uri": "https://localhost:8080/",
          "height": 54
        },
        "outputId": "e16bb41e-ab5a-4884-c245-4e3a3005f7da"
      },
      "source": [
        " \n",
        "ints_list = [1, 2, 3, 4, 3, 2]\n",
        "temp = []\n",
        "for x in ints_list:\n",
        "    if x not in temp:\n",
        "        temp.append(x)\n",
        "ints_list = temp\n",
        "print(f'Updated List after removing duplicates = {temp}')"
      ],
      "execution_count": 5,
      "outputs": [
        {
          "output_type": "stream",
          "text": [
            "Updated List after removing duplicates = [1, 2, 3, 4]\n"
          ],
          "name": "stdout"
        }
      ]
    },
    {
      "cell_type": "code",
      "metadata": {
        "id": "uYiX01qAYCTR",
        "colab_type": "code",
        "colab": {
          "base_uri": "https://localhost:8080/",
          "height": 34
        },
        "outputId": "78bfb244-e7fe-4552-ecb2-8f59519927f8"
      },
      "source": [
        " \n",
        "ints_list = [1, 2, 3, 4, 3, 2]\n",
        "ints_list1 = list(set(ints_list))\n",
        "print(ints_list1)  # [1, 2, 3, 4]"
      ],
      "execution_count": 6,
      "outputs": [
        {
          "output_type": "stream",
          "text": [
            "[1, 2, 3, 4]\n"
          ],
          "name": "stdout"
        }
      ]
    },
    {
      "cell_type": "code",
      "metadata": {
        "id": "EAzftN4AYYZ3",
        "colab_type": "code",
        "colab": {
          "base_uri": "https://localhost:8080/",
          "height": 34
        },
        "outputId": "eee494da-0a0a-4432-f941-8603a71f779c"
      },
      "source": [
        " \n",
        "def square(x):\n",
        "    return x*x\n",
        "numbers=[1, 2, 3, 4, 5]\n",
        "sqrList=map(square, numbers)\n",
        "print(list(sqrList))"
      ],
      "execution_count": 8,
      "outputs": [
        {
          "output_type": "stream",
          "text": [
            "[1, 4, 9, 16, 25]\n"
          ],
          "name": "stdout"
        }
      ]
    },
    {
      "cell_type": "code",
      "metadata": {
        "id": "HzuABT5-Yiv8",
        "colab_type": "code",
        "colab": {
          "base_uri": "https://localhost:8080/",
          "height": 68
        },
        "outputId": "d699613a-166a-4ed7-fcce-7efe735f7e19"
      },
      "source": [
        " \n",
        "def change(string):\n",
        "      return string[-1] + string[1:-1] + string[0]\n",
        "string=input(\"Enter string:\")\n",
        "print(\"Modified string:\",change(string))\n",
        "print('original string :',string)"
      ],
      "execution_count": 9,
      "outputs": [
        {
          "output_type": "stream",
          "text": [
            "Enter string:Sindhu\n",
            "Modified string: uindhS\n",
            "original string : Sindhu\n"
          ],
          "name": "stdout"
        }
      ]
    },
    {
      "cell_type": "code",
      "metadata": {
        "id": "0hRVEoYvZLbw",
        "colab_type": "code",
        "colab": {}
      },
      "source": [
        " \n",
        "def myFunc(e):\n",
        "  return len(e)\n",
        "#myfunc=lambda x : len(x)\n",
        "cars = ['Ford', 'Mitsubishi', 'BMW', 'VW']\n",
        "cars.sort(key=myFunc)\n",
        "print(cars)\n",
        "cars.sort(key=myFunc,reverse=True)\n",
        "print(cars)\n",
        "def myFunc(e):\n",
        "  return e[1]"
      ],
      "execution_count": null,
      "outputs": []
    }
  ]
}