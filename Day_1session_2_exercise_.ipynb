{
  "nbformat": 4,
  "nbformat_minor": 0,
  "metadata": {
    "colab": {
      "name": "Day 1session 2 exercise .ipynb",
      "provenance": [],
      "authorship_tag": "ABX9TyN1fqH9jjEdnpHVlExSUBAd",
      "include_colab_link": true
    },
    "kernelspec": {
      "name": "python3",
      "display_name": "Python 3"
    }
  },
  "cells": [
    {
      "cell_type": "markdown",
      "metadata": {
        "id": "view-in-github",
        "colab_type": "text"
      },
      "source": [
        "<a href=\"https://colab.research.google.com/github/alvas-education-foundation/sindhu-course/blob/master/Day_1session_2_exercise_.ipynb\" target=\"_parent\"><img src=\"https://colab.research.google.com/assets/colab-badge.svg\" alt=\"Open In Colab\"/></a>"
      ]
    },
    {
      "cell_type": "code",
      "metadata": {
        "id": "gE_oqMH2OmDo",
        "colab_type": "code",
        "colab": {
          "base_uri": "https://localhost:8080/",
          "height": 187
        },
        "outputId": "051a21e5-2796-463b-85a6-136af70a669b"
      },
      "source": [
        " n = int(input('Enter the number'))\n",
        "for i in range(n+1):\n",
        "    for j in range(i):\n",
        "        k=i+j\n",
        "        print (k , end=\" \")\n",
        "    print('')"
      ],
      "execution_count": null,
      "outputs": [
        {
          "output_type": "stream",
          "text": [
            "Enter the number8\n",
            "\n",
            "1 \n",
            "2 3 \n",
            "3 4 5 \n",
            "4 5 6 7 \n",
            "5 6 7 8 9 \n",
            "6 7 8 9 10 11 \n",
            "7 8 9 10 11 12 13 \n",
            "8 9 10 11 12 13 14 15 \n"
          ],
          "name": "stdout"
        }
      ]
    },
    {
      "cell_type": "code",
      "metadata": {
        "id": "hsTt_dTrPDtI",
        "colab_type": "code",
        "colab": {
          "base_uri": "https://localhost:8080/",
          "height": 204
        },
        "outputId": "5d31a2cd-ea4a-43db-eff8-77a50ee27b30"
      },
      "source": [
        " n = int(input('Enter the number'))\n",
        "for i in range(n+1):\n",
        "    for j in range(i):\n",
        "        print ('*' , end=\"\")\n",
        "    print('')"
      ],
      "execution_count": null,
      "outputs": [
        {
          "output_type": "stream",
          "text": [
            "Enter the number9\n",
            "\n",
            "*\n",
            "**\n",
            "***\n",
            "****\n",
            "*****\n",
            "******\n",
            "*******\n",
            "********\n",
            "*********\n"
          ],
          "name": "stdout"
        }
      ]
    },
    {
      "cell_type": "code",
      "metadata": {
        "id": "PC-YZ656PWx0",
        "colab_type": "code",
        "colab": {
          "base_uri": "https://localhost:8080/",
          "height": 119
        },
        "outputId": "c21812e7-057d-4522-cd85-3c8fd99aa5f4"
      },
      "source": [
        " n=5;\n",
        "for i in range(n+1):\n",
        "    k=n-i+1\n",
        "    for j in range(i):\n",
        "        print (k, end=\"\")\n",
        "        k=k+1\n",
        "    print('')"
      ],
      "execution_count": null,
      "outputs": [
        {
          "output_type": "stream",
          "text": [
            "\n",
            "5\n",
            "45\n",
            "345\n",
            "2345\n",
            "12345\n"
          ],
          "name": "stdout"
        }
      ]
    },
    {
      "cell_type": "code",
      "metadata": {
        "id": "kNrAHLdyP03n",
        "colab_type": "code",
        "colab": {
          "base_uri": "https://localhost:8080/",
          "height": 136
        },
        "outputId": "58f9c3cb-d23f-4b8e-f243-622c0c7ad727"
      },
      "source": [
        " n=5;\n",
        "for i in range(n+1):\n",
        "    k=n-i\n",
        "    for j in range(n-i):\n",
        "        print (k, end=\"\")\n",
        "        k=k-1\n",
        "    print('')\n",
        "54321"
      ],
      "execution_count": null,
      "outputs": [
        {
          "output_type": "stream",
          "text": [
            "54321\n",
            "4321\n",
            "321\n",
            "21\n",
            "1\n",
            "\n"
          ],
          "name": "stdout"
        },
        {
          "output_type": "execute_result",
          "data": {
            "text/plain": [
              "54321"
            ]
          },
          "metadata": {
            "tags": []
          },
          "execution_count": 4
        }
      ]
    },
    {
      "cell_type": "code",
      "metadata": {
        "id": "i8TgReFDQHx4",
        "colab_type": "code",
        "colab": {
          "base_uri": "https://localhost:8080/",
          "height": 136
        },
        "outputId": "291eef70-a0a7-456e-8307-cc845649e24d"
      },
      "source": [
        " n=4;\n",
        "for i in range(n+1):\n",
        "    k=i+1\n",
        "    for j in range(n-i):\n",
        "        print (k, end=\"\")\n",
        "        k=k+1\n",
        "    if (i+1) != (n+1):\n",
        "        print('')\n",
        "for i in range(n-1):\n",
        "    k=n-i-1\n",
        "    for j in range(i+2):\n",
        "        print (k, end=\"\")\n",
        "        k=k+1\n",
        "    print('')"
      ],
      "execution_count": null,
      "outputs": [
        {
          "output_type": "stream",
          "text": [
            "1234\n",
            "234\n",
            "34\n",
            "4\n",
            "34\n",
            "234\n",
            "1234\n"
          ],
          "name": "stdout"
        }
      ]
    },
    {
      "cell_type": "code",
      "metadata": {
        "id": "NSpI0bAyQWN_",
        "colab_type": "code",
        "colab": {
          "base_uri": "https://localhost:8080/",
          "height": 68
        },
        "outputId": "4155552c-045c-4dc7-89fa-1ce378048766"
      },
      "source": [
        " string=input(\"Enter string:\")\n",
        "count=0\n",
        "for i in string:\n",
        "    count=count+1\n",
        "print(\"Length of string is:\")\n",
        "print(count)"
      ],
      "execution_count": null,
      "outputs": [
        {
          "output_type": "stream",
          "text": [
            "Enter string:Sindhu\n",
            "Length of string is:\n",
            "6\n"
          ],
          "name": "stdout"
        }
      ]
    },
    {
      "cell_type": "code",
      "metadata": {
        "id": "2B6dDD-mQl2s",
        "colab_type": "code",
        "colab": {
          "base_uri": "https://localhost:8080/",
          "height": 102
        },
        "outputId": "5a468f98-a93c-428e-e982-b1f5f7fbd995"
      },
      "source": [
        " string=input(\"Enter string:\")\n",
        "char=0\n",
        "word=0\n",
        "for i in string:\n",
        "      if(i==' '):\n",
        "            if(char!=0):\n",
        "                  word=word+1\n",
        "      char=char+1\n",
        "if(char!=0):            \n",
        "      word=word+1\n",
        "print(\"Number of words is:\")\n",
        "print(word)\n",
        "print(\"Number of characters is:\")\n",
        "print(char)"
      ],
      "execution_count": null,
      "outputs": [
        {
          "output_type": "stream",
          "text": [
            "Enter string:Sindhuhima\n",
            "Number of words is:\n",
            "1\n",
            "Number of characters is:\n",
            "10\n"
          ],
          "name": "stdout"
        }
      ]
    },
    {
      "cell_type": "code",
      "metadata": {
        "id": "RFBkjJpHQw3A",
        "colab_type": "code",
        "colab": {
          "base_uri": "https://localhost:8080/",
          "height": 68
        },
        "outputId": "9c2a15f5-3cfb-4c7c-b3b7-35bfbddfc905"
      },
      "source": [
        " string1 = input(\"Enter string:\")\n",
        "string2 = input(\"Enter word:\")\n",
        "word = string1.split()\n",
        "count = 0\n",
        "for i in word:\n",
        "   if i == string2:\n",
        "      count=count+1\n",
        "print(count)"
      ],
      "execution_count": null,
      "outputs": [
        {
          "output_type": "stream",
          "text": [
            "Enter string:Sindhuhima\n",
            "Enter word:U\n",
            "0\n"
          ],
          "name": "stdout"
        }
      ]
    },
    {
      "cell_type": "code",
      "metadata": {
        "id": "4tU3QLx_RSFx",
        "colab_type": "code",
        "colab": {}
      },
      "source": [
        ""
      ],
      "execution_count": null,
      "outputs": []
    }
  ]
}