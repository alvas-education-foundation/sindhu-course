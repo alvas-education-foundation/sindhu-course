{
  "nbformat": 4,
  "nbformat_minor": 0,
  "metadata": {
    "colab": {
      "name": "Day 2 session 1 exercise .ipynb",
      "provenance": [],
      "authorship_tag": "ABX9TyPNx+ybiKWOKAZVcPzEpHQ0",
      "include_colab_link": true
    },
    "kernelspec": {
      "name": "python3",
      "display_name": "Python 3"
    }
  },
  "cells": [
    {
      "cell_type": "markdown",
      "metadata": {
        "id": "view-in-github",
        "colab_type": "text"
      },
      "source": [
        "<a href=\"https://colab.research.google.com/github/alvas-education-foundation/sindhu-course/blob/master/Day_2_session_1_exercise_.ipynb\" target=\"_parent\"><img src=\"https://colab.research.google.com/assets/colab-badge.svg\" alt=\"Open In Colab\"/></a>"
      ]
    },
    {
      "cell_type": "code",
      "metadata": {
        "id": "ipOiqXOOk3zE",
        "colab_type": "code",
        "colab": {
          "base_uri": "https://localhost:8080/",
          "height": 71
        },
        "outputId": "9c2e5ec4-024f-4f09-e5fe-5a5ae4c03abf"
      },
      "source": [
        " '''\n",
        "1)print multiples of 3 upto 200 using a list\n",
        " \n",
        "'''\n",
        "list=[]\n",
        "N=int(input(\"Enter the limit:\"))\n",
        "for i in range(1,N):\n",
        "  if i%3==0:\n",
        "    list.append(i)\n",
        "print(\"list:\",list)"
      ],
      "execution_count": 1,
      "outputs": [
        {
          "output_type": "stream",
          "text": [
            "Enter the limit:200\n",
            "list: [3, 6, 9, 12, 15, 18, 21, 24, 27, 30, 33, 36, 39, 42, 45, 48, 51, 54, 57, 60, 63, 66, 69, 72, 75, 78, 81, 84, 87, 90, 93, 96, 99, 102, 105, 108, 111, 114, 117, 120, 123, 126, 129, 132, 135, 138, 141, 144, 147, 150, 153, 156, 159, 162, 165, 168, 171, 174, 177, 180, 183, 186, 189, 192, 195, 198]\n"
          ],
          "name": "stdout"
        }
      ]
    },
    {
      "cell_type": "code",
      "metadata": {
        "id": "7g85rk60lKKQ",
        "colab_type": "code",
        "colab": {
          "base_uri": "https://localhost:8080/",
          "height": 71
        },
        "outputId": "5b280d13-58d6-4321-bbb6-45b2406b3571"
      },
      "source": [
        " '''\n",
        "2. print the nos only divisable by 5 and 7 between 1000 and 2000 using a list( both inclusive)\n",
        "'''\n",
        "arr=[]\n",
        "for i in range(1000,2000):\n",
        "  if i%5==0 and i%7==0:\n",
        "    arr.append(i)\n",
        "print(\"the numbers divisible by 5 and 7 in between 1000 and 2000 is:\\n\",arr)"
      ],
      "execution_count": 2,
      "outputs": [
        {
          "output_type": "stream",
          "text": [
            "the numbers divisible by 5 and 7 in between 1000 and 2000 is:\n",
            " [1015, 1050, 1085, 1120, 1155, 1190, 1225, 1260, 1295, 1330, 1365, 1400, 1435, 1470, 1505, 1540, 1575, 1610, 1645, 1680, 1715, 1750, 1785, 1820, 1855, 1890, 1925, 1960, 1995]\n"
          ],
          "name": "stdout"
        }
      ]
    },
    {
      "cell_type": "code",
      "metadata": {
        "id": "BHrY1OOdlP0J",
        "colab_type": "code",
        "colab": {
          "base_uri": "https://localhost:8080/",
          "height": 102
        },
        "outputId": "5ec1655e-4e7c-449b-949d-44933d25cd10"
      },
      "source": [
        " '''\n",
        "3. Add the n number of names in a list and print them alphabetically and reverse alphabetically.\n",
        "'''\n",
        "my_str = input(\"Enter the string:\")\n",
        " \n",
        "words = my_str.split()\n",
        "words.sort()\n",
        "print(\"The sorted words are:\")\n",
        "for word in words:\n",
        "  \n",
        "  print(word)"
      ],
      "execution_count": 3,
      "outputs": [
        {
          "output_type": "stream",
          "text": [
            "Enter the string:It is sorted \n",
            "The sorted words are:\n",
            "It\n",
            "is\n",
            "sorted\n"
          ],
          "name": "stdout"
        }
      ]
    },
    {
      "cell_type": "code",
      "metadata": {
        "id": "C6UmNZZ-lZTS",
        "colab_type": "code",
        "colab": {}
      },
      "source": [
        ""
      ],
      "execution_count": null,
      "outputs": []
    }
  ]
}