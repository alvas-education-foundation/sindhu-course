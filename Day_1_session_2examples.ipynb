{
  "nbformat": 4,
  "nbformat_minor": 0,
  "metadata": {
    "colab": {
      "name": "Day 1 session 2examples.ipynb",
      "provenance": [],
      "authorship_tag": "ABX9TyOcAG4keqTghb0hvBnuht1y",
      "include_colab_link": true
    },
    "kernelspec": {
      "name": "python3",
      "display_name": "Python 3"
    }
  },
  "cells": [
    {
      "cell_type": "markdown",
      "metadata": {
        "id": "view-in-github",
        "colab_type": "text"
      },
      "source": [
        "<a href=\"https://colab.research.google.com/github/alvas-education-foundation/sindhu-course/blob/master/Day_1_session_2examples.ipynb\" target=\"_parent\"><img src=\"https://colab.research.google.com/assets/colab-badge.svg\" alt=\"Open In Colab\"/></a>"
      ]
    },
    {
      "cell_type": "markdown",
      "metadata": {
        "id": "xoBqLwCxIQcc",
        "colab_type": "text"
      },
      "source": [
        "Program for factorial no."
      ]
    },
    {
      "cell_type": "code",
      "metadata": {
        "id": "M7YnLKLqGfYl",
        "colab_type": "code",
        "colab": {
          "base_uri": "https://localhost:8080/",
          "height": 68
        },
        "outputId": "881ecce1-dc5c-463b-8b65-f0dde1d51a56"
      },
      "source": [
        " \n",
        "n=int(input(\"Enter number:\"))\n",
        "fact=1\n",
        " \n",
        "while(n>0):\n",
        "    fact=fact*n\n",
        "    n=n-1\n",
        "print(\"Factorial of the number is: \")\n",
        "print(fact)"
      ],
      "execution_count": 2,
      "outputs": [
        {
          "output_type": "stream",
          "text": [
            "Enter number:5\n",
            "Factorial of the number is: \n",
            "120\n"
          ],
          "name": "stdout"
        }
      ]
    }
  ]
}