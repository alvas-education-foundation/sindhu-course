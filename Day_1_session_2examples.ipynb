{
  "nbformat": 4,
  "nbformat_minor": 0,
  "metadata": {
    "colab": {
      "name": "Day 1 session 2examples.ipynb",
      "provenance": [],
      "authorship_tag": "ABX9TyPWoiNdFxGQNJm8+1mPYyjD",
      "include_colab_link": true
    },
    "kernelspec": {
      "name": "python3",
      "display_name": "Python 3"
    }
  },
  "cells": [
    {
      "cell_type": "markdown",
      "metadata": {
        "id": "view-in-github",
        "colab_type": "text"
      },
      "source": [
        "<a href=\"https://colab.research.google.com/github/alvas-education-foundation/sindhu-course/blob/master/Day_1_session_2examples.ipynb\" target=\"_parent\"><img src=\"https://colab.research.google.com/assets/colab-badge.svg\" alt=\"Open In Colab\"/></a>"
      ]
    },
    {
      "cell_type": "markdown",
      "metadata": {
        "id": "xoBqLwCxIQcc",
        "colab_type": "text"
      },
      "source": [
        "Program for factorial no."
      ]
    },
    {
      "cell_type": "markdown",
      "metadata": {
        "id": "QIeQPgbsMiT5",
        "colab_type": "text"
      },
      "source": [
        "Creating nested loop"
      ]
    },
    {
      "cell_type": "code",
      "metadata": {
        "id": "3SPninxDMXjn",
        "colab_type": "code",
        "colab": {
          "base_uri": "https://localhost:8080/",
          "height": 187
        },
        "outputId": "a7173bd2-ee12-4473-d11d-da4f25699361"
      },
      "source": [
        " \n",
        "n=5;\n",
        "for i in range(n):\n",
        "    for j in range(i):\n",
        "        print ('* ', end=\"\")\n",
        "    print('')\n",
        " \n",
        "for i in range(n,0,-1):\n",
        "    for j in range(i):\n",
        "        print('* ', end=\"\")\n",
        "    print('')"
      ],
      "execution_count": 4,
      "outputs": [
        {
          "output_type": "stream",
          "text": [
            "\n",
            "* \n",
            "* * \n",
            "* * * \n",
            "* * * * \n",
            "* * * * * \n",
            "* * * * \n",
            "* * * \n",
            "* * \n",
            "* \n"
          ],
          "name": "stdout"
        }
      ]
    }
  ]
}